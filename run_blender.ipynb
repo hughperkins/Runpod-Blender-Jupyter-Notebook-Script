{
 "cells": [
  {
   "cell_type": "code",
   "execution_count": 1,
   "metadata": {
    "id": "h7sezB8rZqc0"
   },
   "outputs": [
    {
     "name": "stdout",
     "output_type": "stream",
     "text": [
      "======================================== Memory Information ========================================\n",
      "Total: 61.95GB\n",
      "Available: 60.48GB\n",
      "Used: 836.74MB\n",
      "Percentage: 2.4%\n"
     ]
    }
   ],
   "source": [
    "import psutil\n",
    "def get_size(bytes, suffix=\"B\"):\n",
    "    factor = 1024\n",
    "    for unit in [\"\", \"K\", \"M\", \"G\", \"T\", \"P\"]:\n",
    "        if bytes < factor:\n",
    "            return f\"{bytes:.2f}{unit}{suffix}\"\n",
    "        bytes /= factor\n",
    "print(\"=\"*40, \"Memory Information\", \"=\"*40)\n",
    "svmem = psutil.virtual_memory()\n",
    "print(f\"Total: {get_size(svmem.total)}\") ; print(f\"Available: {get_size(svmem.available)}\")\n",
    "print(f\"Used: {get_size(svmem.used)}\") ; print(f\"Percentage: {svmem.percent}%\")"
   ]
  },
  {
   "cell_type": "code",
   "execution_count": 2,
   "metadata": {
    "id": "tgz0oblTaEfk"
   },
   "outputs": [
    {
     "name": "stdout",
     "output_type": "stream",
     "text": [
      "Wed Feb  7 11:46:53 2024       \n",
      "+---------------------------------------------------------------------------------------+\n",
      "| NVIDIA-SMI 535.129.03             Driver Version: 535.129.03   CUDA Version: 12.2     |\n",
      "|-----------------------------------------+----------------------+----------------------+\n",
      "| GPU  Name                 Persistence-M | Bus-Id        Disp.A | Volatile Uncorr. ECC |\n",
      "| Fan  Temp   Perf          Pwr:Usage/Cap |         Memory-Usage | GPU-Util  Compute M. |\n",
      "|                                         |                      |               MIG M. |\n",
      "|=========================================+======================+======================|\n",
      "|   0  NVIDIA GeForce RTX 4090        On  | 00000000:01:00.0 Off |                  Off |\n",
      "|  0%   22C    P8              18W / 450W |      3MiB / 24564MiB |      0%      Default |\n",
      "|                                         |                      |                  N/A |\n",
      "+-----------------------------------------+----------------------+----------------------+\n",
      "                                                                                         \n",
      "+---------------------------------------------------------------------------------------+\n",
      "| Processes:                                                                            |\n",
      "|  GPU   GI   CI        PID   Type   Process name                            GPU Memory |\n",
      "|        ID   ID                                                             Usage      |\n",
      "|=======================================================================================|\n",
      "|  No running processes found                                                           |\n",
      "+---------------------------------------------------------------------------------------+\n"
     ]
    }
   ],
   "source": [
    "! nvidia-smi"
   ]
  },
  {
   "cell_type": "code",
   "execution_count": 12,
   "metadata": {},
   "outputs": [
    {
     "name": "stdout",
     "output_type": "stream",
     "text": [
      "File ‘blender-4.0.2-linux-x64.tar.xz’ already there; not retrieving.\n",
      "\n",
      "................................................................................................................................"
     ]
    }
   ],
   "source": [
    "#@title Select Blender Version (used for rendering) then execute the cell{ display-mode: \"form\" }\n",
    "Blender_Version = 'Blender 4.0.2' #@param [\"Blender 2.79b\", \"Blender 2.80\", \"Blender 2.81\", \"Blender 2.82a\", \"Blender 2.83.0\", \"Blender 2.83.3\", \"Blender 2.90alpha (expiremental)\", \"Blender 2.90\",\"Blender 2.91\",\"Blender 2.92\",\"Blender 2.93\",\"Blender 3.0\",\"Blender 3.1\",\"Blender 3.2\",\"Blender 3.3\",\"Blender 3.4\",\"Blender 3.5\",\"Blender 3.6\"]\n",
    "\n",
    "from os import path\n",
    "import shutil\n",
    "\n",
    "if path.isdir('blender'):\n",
    "    shutil.rmtree('blender')\n",
    "\n",
    "def path_leaf(path):\n",
    "  import ntpath\n",
    "  head, tail = ntpath.split(path)\n",
    "  return tail or ntpath.basename(head)\n",
    "\n",
    "dl_link = {\n",
    "   \"Blender 2.79b\": \"https://download.blender.org/release/Blender2.79/blender-2.79b-linux-glibc219-x86_64.tar.bz2\",\n",
    "    \"Blender 2.80\": \"https://download.blender.org/release/Blender2.80/blender-2.80-linux-glibc217-x86_64.tar.bz2\",\n",
    "    \"Blender 2.81\": \"https://download.blender.org/release/Blender2.81/blender-2.81-linux-glibc217-x86_64.tar.bz2\",\n",
    "    \"Blender 2.82a\": \"https://download.blender.org/release/Blender2.82/blender-2.82a-linux64.tar.xz\",\n",
    "    \"Blender 2.83.0\": \"https://download.blender.org/release/Blender2.83/blender-2.83.0-linux64.tar.xz\",\n",
    "    \"Blender 2.83.3\": \"https://download.blender.org/release/Blender2.83/blender-2.83.3-linux64.tar.xz\",\n",
    "    \"Blender 2.90alpha (expiremental)\": \"https://blender.community/5edccfe69c122126f183e2ad/download/5ef635439c12214ca244be6b\",\n",
    "    \"Blender 2.90\" : \"https://ftp.halifax.rwth-aachen.de/blender/release/Blender2.90/blender-2.90.0-linux64.tar.xz\",\n",
    "    \"Blender 2.91\" : \"https://ftp.halifax.rwth-aachen.de/blender/release/Blender2.91/blender-2.91.0-linux64.tar.xz\",\n",
    "    \"Blender 2.92\" : \"https://ftp.halifax.rwth-aachen.de/blender/release/Blender2.92/blender-2.92.0-linux64.tar.xz\",\n",
    "    \"Blender 2.93\" : \"https://ftp.halifax.rwth-aachen.de/blender/release/Blender2.93/blender-2.93.0-linux64.tar.xz\",\n",
    "    \"Blender 3.0\" : \"https://ftp.halifax.rwth-aachen.de/blender/release/Blender3.0/blender-3.0.0-linux-x64.tar.xz\",\n",
    "    \"Blender 3.1\" : \"https://ftp.halifax.rwth-aachen.de/blender/release/Blender3.1/blender-3.1.0-linux-x64.tar.xz\",\n",
    "    \"Blender 3.2\" : \"https://ftp.halifax.rwth-aachen.de/blender/release/Blender3.2/blender-3.2.0-linux-x64.tar.xz\",\n",
    "    \"Blender 3.3\" : \"https://ftp.halifax.rwth-aachen.de/blender/release/Blender3.3/blender-3.3.0-linux-x64.tar.xz\",\n",
    "    \"Blender 3.4\" : \"https://ftp.halifax.rwth-aachen.de/blender/release/Blender3.4/blender-3.4.0-linux-x64.tar.xz\",\n",
    "    \"Blender 3.5\" : \"https://ftp.halifax.rwth-aachen.de/blender/release/Blender3.5/blender-3.5.0-linux-x64.tar.xz\",\n",
    "    \"Blender 3.6\" : \"https://ftp.halifax.rwth-aachen.de/blender/release/Blender3.6/blender-3.6.0-linux-x64.tar.xz\",\n",
    "    \"Blender 4.0\" : \"https://ftp.halifax.rwth-aachen.de/blender/release/Blender4.0/blender-4.0.1-linux-x64.tar.xz\",\n",
    "    \"Blender 4.0.2\" : \"https://ftp.halifax.rwth-aachen.de/blender/release/Blender4.0/blender-4.0.2-linux-x64.tar.xz\",\n",
    "}\n",
    "\n",
    "\n",
    "dl = dl_link[Blender_Version]\n",
    "filename = path_leaf(dl)\n",
    "\n",
    "if (Blender_Version == \"Blender 2.90alpha (expiremental)\"):\n",
    "  !wget $dl\n",
    "  !sudo apt-get install p7zip-full\n",
    "  !7z x $filename\n",
    "  !mv blender_290bM_e935447a5370-20200625-1857 blender\n",
    "\n",
    "\n",
    "\n",
    "else:\n",
    "  !wget -nc $dl\n",
    "  !mkdir ./blender && tar xf $filename -C ./blender --strip-components 1 --checkpoint=.1000\n"
   ]
  },
  {
   "cell_type": "code",
   "execution_count": null,
   "metadata": {},
   "outputs": [],
   "source": [
    "# Download all the supporting libraries for Blender\n",
    "!apt update -y -q\n",
    "!apt upgrade -y -q\n",
    "!apt-get install libxi6 libgconf-2-4 -y -q\n",
    "!apt install libfontconfig1 libxrender1 -y -q\n",
    "!apt install libboost-all-dev -y -q\n",
    "!apt install libgl1-mesa-dev -y -q\n",
    "!apt install libglu1-mesa libsm-dev libxkbcommon-x11-dev -y -q\n",
    "!apt update -y -q\n",
    "!apt upgrade -y -q"
   ]
  },
  {
   "cell_type": "code",
   "execution_count": 10,
   "metadata": {
    "id": "eD0RreK3aP_I"
   },
   "outputs": [
    {
     "name": "stdout",
     "output_type": "stream",
     "text": [
      "--2024-02-07 12:04:52--  https://ftp.halifax.rwth-aachen.de/blender/release/Blender4.0/blender-4.0.2-linux-x64.tar.xz\n",
      "Resolving ftp.halifax.rwth-aachen.de (ftp.halifax.rwth-aachen.de)... 137.226.34.46, 2a00:8a60:e012:a00::21\n",
      "Connecting to ftp.halifax.rwth-aachen.de (ftp.halifax.rwth-aachen.de)|137.226.34.46|:443... connected.\n",
      "HTTP request sent, awaiting response... 200 OK\n",
      "Length: 277588768 (265M) [application/octet-stream]\n",
      "Saving to: ‘blender-4.0.2-linux-x64.tar.xz’\n",
      "\n",
      "blender-4.0.2-linux 100%[===================>] 264.73M  43.0MB/s    in 5.6s    \n",
      "\n",
      "2024-02-07 12:04:58 (47.6 MB/s) - ‘blender-4.0.2-linux-x64.tar.xz’ saved [277588768/277588768]\n",
      "\n",
      "mkdir: cannot create directory ‘./blender’: File exists\n",
      "Hit:1 https://developer.download.nvidia.com/compute/cuda/repos/ubuntu2204/x86_64  InRelease\n",
      "Hit:2 https://ppa.launchpadcontent.net/deadsnakes/ppa/ubuntu jammy InRelease   \u001b[0m\u001b[33m\n",
      "Hit:3 http://archive.ubuntu.com/ubuntu jammy InRelease                         \n",
      "Hit:4 http://security.ubuntu.com/ubuntu jammy-security InRelease\n",
      "Hit:5 http://archive.ubuntu.com/ubuntu jammy-updates InRelease\n",
      "Hit:6 http://archive.ubuntu.com/ubuntu jammy-backports InRelease\n",
      "Reading package lists... Done\n",
      "Building dependency tree... Done\n",
      "Reading state information... Done\n",
      "2 packages can be upgraded. Run 'apt list --upgradable' to see them.\n",
      "Reading package lists... Done\n",
      "Building dependency tree... Done\n",
      "Reading state information... Done\n",
      "Calculating upgrade... Done\n",
      "The following packages have been kept back:\n",
      "  libnccl-dev libnccl2\n",
      "0 upgraded, 0 newly installed, 0 to remove and 2 not upgraded.\n",
      "Reading package lists... Done\n",
      "Building dependency tree... Done\n",
      "Reading state information... Done\n",
      "libxi6 is already the newest version (2:1.8-1build1).\n",
      "libgconf-2-4 is already the newest version (3.2.6-7ubuntu2).\n",
      "0 upgraded, 0 newly installed, 0 to remove and 2 not upgraded.\n",
      "Reading package lists... Done\n",
      "Building dependency tree... Done\n",
      "Reading state information... Done\n",
      "libfontconfig1 is already the newest version (2.13.1-4.2ubuntu5).\n",
      "libxrender1 is already the newest version (1:0.9.10-1build4).\n",
      "0 upgraded, 0 newly installed, 0 to remove and 2 not upgraded.\n",
      "Reading package lists... Done\n",
      "Building dependency tree... Done\n",
      "Reading state information... Done\n",
      "libboost-all-dev is already the newest version (1.74.0.3ubuntu7).\n",
      "0 upgraded, 0 newly installed, 0 to remove and 2 not upgraded.\n",
      "Reading package lists... Done\n",
      "Building dependency tree... Done\n",
      "Reading state information... Done\n",
      "libgl1-mesa-dev is already the newest version (23.0.4-0ubuntu1~22.04.1).\n",
      "0 upgraded, 0 newly installed, 0 to remove and 2 not upgraded.\n",
      "Reading package lists... Done\n",
      "Building dependency tree... Done\n",
      "Reading state information... Done\n",
      "libglu1-mesa is already the newest version (9.0.2-1).\n",
      "libsm-dev is already the newest version (2:1.2.3-1build2).\n",
      "libxkbcommon-x11-dev is already the newest version (1.4.0-1).\n",
      "0 upgraded, 0 newly installed, 0 to remove and 2 not upgraded.\n",
      "Hit:1 http://archive.ubuntu.com/ubuntu jammy InRelease\n",
      "Hit:2 https://developer.download.nvidia.com/compute/cuda/repos/ubuntu2204/x86_64  InRelease\n",
      "Hit:3 http://archive.ubuntu.com/ubuntu jammy-updates InRelease                 \u001b[0m\n",
      "Hit:4 http://archive.ubuntu.com/ubuntu jammy-backports InRelease    \u001b[0m       \u001b[0m\u001b[33m\n",
      "Hit:5 http://security.ubuntu.com/ubuntu jammy-security InRelease    \u001b[33m\n",
      "Hit:6 https://ppa.launchpadcontent.net/deadsnakes/ppa/ubuntu jammy InRelease\n",
      "Reading package lists... Done\u001b[33m\u001b[33m\n",
      "Building dependency tree... Done\n",
      "Reading state information... Done\n",
      "2 packages can be upgraded. Run 'apt list --upgradable' to see them.\n",
      "Reading package lists... Done\n",
      "Building dependency tree... Done\n",
      "Reading state information... Done\n",
      "Calculating upgrade... Done\n",
      "The following packages have been kept back:\n",
      "  libnccl-dev libnccl2\n",
      "0 upgraded, 0 newly installed, 0 to remove and 2 not upgraded.\n",
      "mkdir: cannot create directory ‘output’: File exists\n"
     ]
    }
   ],
   "source": [
    "# Blender will use this to decide if it want to use GPU if available\n",
    "data = \"import re\\n\"+\\\n",
    "    \"import bpy\\n\"+\\\n",
    "    \"scene = bpy.context.scene\\n\"+\\\n",
    "    \"scene.cycles.device = 'GPU'\\n\"+\\\n",
    "    \"prefs = bpy.context.preferences\\n\"+\\\n",
    "    \"prefs.addons['cycles'].preferences.get_devices()\\n\"+\\\n",
    "    \"cprefs = prefs.addons['cycles'].preferences\\n\"+\\\n",
    "    \"print(cprefs)\\n\"+\\\n",
    "    \"# Attempt to set GPU device types if available\\n\"+\\\n",
    "    \"for compute_device_type in ('CUDA', 'OPENCL', 'NONE'):\\n\"+\\\n",
    "    \"    try:\\n\"+\\\n",
    "    \"        cprefs.compute_device_type = compute_device_type\\n\"+\\\n",
    "    \"        print('Device found',compute_device_type)\\n\"+\\\n",
    "    \"        break\\n\"+\\\n",
    "    \"    except TypeError:\\n\"+\\\n",
    "    \"        pass\\n\"+\\\n",
    "    \"# Enable all CPU and GPU devices\\n\"+\\\n",
    "    \"for device in cprefs.devices:\\n\"+\\\n",
    "    \"    if not re.match('intel', device.name, re.I):\\n\"+\\\n",
    "    \"        print('Activating',device)\\n\"+\\\n",
    "    \"        device.use = True\\n\"\n",
    "with open('setgpu.py', 'w') as f:\n",
    "    f.write(data)\n",
    "\n",
    "# Create output directory\n",
    "!mkdir output"
   ]
  },
  {
   "cell_type": "code",
   "execution_count": 27,
   "metadata": {
    "id": "K5k1tDKNdB7c"
   },
   "outputs": [
    {
     "name": "stdout",
     "output_type": "stream",
     "text": [
      "Blender 4.0.2 (hash 9be62e85b727 built 2023-12-05 08:48:50)\n",
      "<bpy_struct, CyclesPreferences at 0x7f73f8a17ee8>\n",
      "Device found CUDA\n",
      "Activating <bpy_struct, CyclesDeviceSettings(\"NVIDIA GeForce RTX 4090\") at 0x7f73f8c94488>\n",
      "Activating <bpy_struct, CyclesDeviceSettings(\"AMD Ryzen 5 7600 6-Core Processor\") at 0x7f73f8c94510>\n",
      "Read blend: \"/workspace/test_render1.blend\"\n",
      "Fra:29 Mem:17.50M (Peak 17.50M) | Time:00:00.06 | Mem:0.00M, Peak:0.00M | Scene, ViewLayer | Synchronizing object | Cube\n",
      "Fra:29 Mem:17.50M (Peak 17.50M) | Time:00:00.06 | Mem:0.00M, Peak:0.00M | Scene, ViewLayer | Synchronizing object | Liquid Domain\n",
      "Fra:29 Mem:18.36M (Peak 18.36M) | Time:00:00.06 | Mem:0.00M, Peak:0.00M | Scene, ViewLayer | Initializing\n",
      "Fra:29 Mem:16.12M (Peak 18.36M) | Time:00:00.06 | Mem:0.00M, Peak:0.00M | Scene, ViewLayer | Updating Images | Loading machine_shop_02_1k.hdr\n",
      "Fra:29 Mem:22.15M (Peak 40.13M) | Time:00:00.09 | Mem:8.00M, Peak:8.00M | Scene, ViewLayer | Waiting for render to start\n",
      "Fra:29 Mem:22.15M (Peak 40.13M) | Time:00:00.09 | Mem:8.00M, Peak:8.00M | Scene, ViewLayer | Loading render kernels (may take a few minutes the first time)\n",
      "Fra:29 Mem:22.15M (Peak 42.71M) | Time:00:00.12 | Mem:8.00M, Peak:8.00M | Scene, ViewLayer | Updating Scene\n",
      "Fra:29 Mem:22.15M (Peak 42.71M) | Time:00:00.12 | Mem:8.00M, Peak:8.00M | Scene, ViewLayer | Updating Shaders\n",
      "Fra:29 Mem:22.23M (Peak 42.71M) | Time:00:00.12 | Mem:8.00M, Peak:8.00M | Scene, ViewLayer | Updating Procedurals\n",
      "Fra:29 Mem:22.23M (Peak 42.71M) | Time:00:00.12 | Mem:8.00M, Peak:8.00M | Scene, ViewLayer | Updating Background\n",
      "Fra:29 Mem:22.23M (Peak 42.71M) | Time:00:00.12 | Mem:8.00M, Peak:8.00M | Scene, ViewLayer | Updating Camera\n",
      "Fra:29 Mem:22.23M (Peak 42.71M) | Time:00:00.12 | Mem:8.00M, Peak:8.00M | Scene, ViewLayer | Updating Meshes Flags\n",
      "Fra:29 Mem:22.23M (Peak 42.71M) | Time:00:00.12 | Mem:8.00M, Peak:8.00M | Scene, ViewLayer | Updating Objects\n",
      "Fra:29 Mem:22.23M (Peak 42.71M) | Time:00:00.12 | Mem:8.00M, Peak:8.00M | Scene, ViewLayer | Updating Objects | Copying Transformations to device\n",
      "Fra:29 Mem:22.23M (Peak 42.71M) | Time:00:00.12 | Mem:8.00M, Peak:8.00M | Scene, ViewLayer | Updating Objects | Applying Static Transformations\n",
      "Fra:29 Mem:22.23M (Peak 42.71M) | Time:00:00.12 | Mem:8.00M, Peak:8.00M | Scene, ViewLayer | Updating Particle Systems\n",
      "Fra:29 Mem:22.23M (Peak 42.71M) | Time:00:00.12 | Mem:8.00M, Peak:8.00M | Scene, ViewLayer | Updating Particle Systems | Copying Particles to device\n",
      "Fra:29 Mem:22.23M (Peak 42.71M) | Time:00:00.12 | Mem:8.00M, Peak:8.00M | Scene, ViewLayer | Updating Meshes\n",
      "Fra:29 Mem:22.51M (Peak 42.71M) | Time:00:00.12 | Mem:8.00M, Peak:8.00M | Scene, ViewLayer | Updating Mesh | Computing attributes\n",
      "Fra:29 Mem:22.51M (Peak 42.71M) | Time:00:00.12 | Mem:8.00M, Peak:8.00M | Scene, ViewLayer | Updating Mesh | Copying Attributes to device\n",
      "Fra:29 Mem:22.51M (Peak 42.71M) | Time:00:00.12 | Mem:8.00M, Peak:8.00M | Scene, ViewLayer | Updating Scene BVH | Building\n",
      "Fra:29 Mem:22.51M (Peak 42.71M) | Time:00:00.12 | Mem:8.00M, Peak:8.00M | Scene, ViewLayer | Updating Scene BVH | Building BVH\n",
      "Fra:29 Mem:23.57M (Peak 42.71M) | Time:00:00.13 | Mem:8.00M, Peak:8.00M | Scene, ViewLayer | Updating Scene BVH | Packing BVH triangles and strands\n",
      "Fra:29 Mem:23.64M (Peak 42.71M) | Time:00:00.13 | Mem:8.00M, Peak:8.00M | Scene, ViewLayer | Updating Scene BVH | Packing BVH nodes\n",
      "Fra:29 Mem:23.67M (Peak 42.71M) | Time:00:00.13 | Mem:8.00M, Peak:8.00M | Scene, ViewLayer | Updating Scene BVH | Copying BVH to device\n",
      "Fra:29 Mem:23.67M (Peak 42.71M) | Time:00:00.13 | Mem:8.58M, Peak:8.58M | Scene, ViewLayer | Updating Mesh | Computing normals\n",
      "Fra:29 Mem:24.30M (Peak 42.71M) | Time:00:00.13 | Mem:8.58M, Peak:8.58M | Scene, ViewLayer | Updating Mesh | Copying Mesh to device\n",
      "Fra:29 Mem:24.30M (Peak 42.71M) | Time:00:00.13 | Mem:9.21M, Peak:9.21M | Scene, ViewLayer | Updating Objects Flags\n",
      "Fra:29 Mem:24.30M (Peak 42.71M) | Time:00:00.13 | Mem:9.21M, Peak:9.21M | Scene, ViewLayer | Updating Primitive Offsets\n",
      "Fra:29 Mem:24.30M (Peak 42.71M) | Time:00:00.13 | Mem:9.21M, Peak:9.21M | Scene, ViewLayer | Updating Images\n",
      "Fra:29 Mem:24.30M (Peak 42.71M) | Time:00:00.13 | Mem:9.21M, Peak:9.21M | Scene, ViewLayer | Updating Camera Volume\n",
      "Fra:29 Mem:24.30M (Peak 42.71M) | Time:00:00.13 | Mem:9.21M, Peak:9.21M | Scene, ViewLayer | Updating Lookup Tables\n",
      "Fra:29 Mem:24.30M (Peak 42.71M) | Time:00:00.13 | Mem:9.29M, Peak:9.29M | Scene, ViewLayer | Updating Lights\n",
      "Fra:29 Mem:24.30M (Peak 42.71M) | Time:00:00.13 | Mem:9.29M, Peak:9.29M | Scene, ViewLayer | Updating Lights | Importance map\n",
      "Fra:29 Mem:88.33M (Peak 376.30M) | Time:00:00.37 | Mem:73.32M, Peak:73.32M | Scene, ViewLayer | Updating Lights | Computing distribution\n",
      "Fra:29 Mem:88.33M (Peak 376.30M) | Time:00:00.37 | Mem:73.32M, Peak:73.32M | Scene, ViewLayer | Updating Lights | Computing tree\n",
      "Fra:29 Mem:88.33M (Peak 376.30M) | Time:00:00.37 | Mem:73.32M, Peak:73.32M | Scene, ViewLayer | Updating Integrator\n",
      "Fra:29 Mem:89.33M (Peak 376.30M) | Time:00:00.37 | Mem:74.32M, Peak:74.32M | Scene, ViewLayer | Updating Film\n",
      "Fra:29 Mem:89.33M (Peak 376.30M) | Time:00:00.37 | Mem:74.24M, Peak:74.32M | Scene, ViewLayer | Updating Lookup Tables\n",
      "Fra:29 Mem:89.33M (Peak 376.30M) | Time:00:00.37 | Mem:74.33M, Peak:74.33M | Scene, ViewLayer | Updating Baking\n",
      "Fra:29 Mem:89.33M (Peak 376.30M) | Time:00:00.37 | Mem:74.33M, Peak:74.33M | Scene, ViewLayer | Updating Device | Writing constant memory\n",
      "Fra:29 Mem:101.34M (Peak 376.30M) | Time:00:00.38 | Mem:74.33M, Peak:74.33M | Scene, ViewLayer | Sample 0/64\n",
      "Fra:29 Mem:251.69M (Peak 376.30M) | Time:00:00.47 | Remaining:00:05.76 | Mem:74.33M, Peak:74.33M | Scene, ViewLayer | Sample 1/64\n",
      "Fra:29 Mem:251.69M (Peak 441.12M) | Time:00:00.56 | Remaining:00:05.85 | Mem:74.33M, Peak:224.62M | Scene, ViewLayer | Sample 2/64\n",
      "Fra:29 Mem:251.69M (Peak 441.12M) | Time:00:00.69 | Remaining:00:03.05 | Mem:74.33M, Peak:224.62M | Scene, ViewLayer | Sample 6/64\n",
      "Fra:29 Mem:251.69M (Peak 441.12M) | Time:00:00.88 | Remaining:00:01.80 | Mem:74.33M, Peak:224.62M | Scene, ViewLayer | Sample 14/64\n",
      "Fra:29 Mem:251.69M (Peak 441.12M) | Time:00:01.09 | Remaining:00:00.80 | Mem:74.33M, Peak:224.62M | Scene, ViewLayer | Sample 30/64\n",
      "Fra:29 Mem:251.69M (Peak 441.12M) | Time:00:01.31 | Remaining:00:00.36 | Mem:74.33M, Peak:224.62M | Scene, ViewLayer | Sample 46/64\n",
      "Fra:29 Mem:251.69M (Peak 441.12M) | Time:00:01.33 | Remaining:00:00.31 | Mem:74.33M, Peak:224.62M | Scene, ViewLayer | Sample 48/64\n",
      "Fra:29 Mem:465.27M (Peak 560.19M) | Time:00:03.85 | Mem:74.33M, Peak:224.62M | Scene, ViewLayer | Sample 64/64\n",
      "Fra:29 Mem:465.27M (Peak 560.19M) | Time:00:03.85 | Mem:74.33M, Peak:224.62M | Scene, ViewLayer | Finished\n",
      "Saved: '0029.png'\n",
      "Time: 00:04.14 (Saving: 00:00.21)\n",
      "\n",
      "\n",
      "Blender quit\n"
     ]
    }
   ],
   "source": [
    "#Upload your blend file in /workspace diectory or simply drag and drop.\n",
    "# For single frame. The value -f represent frame value in a scene as mentioned below. Change it as per your suitability along with the file name\n",
    "!./blender/blender -P setgpu.py -b './test_render1.blend' -o '####.png' -f 29"
   ]
  },
  {
   "cell_type": "code",
   "execution_count": null,
   "metadata": {
    "id": "aqt-JG9vd2hE"
   },
   "outputs": [],
   "source": [
    "# For Multiples frame renders as PNG images. -s = starting frame value, -e = end frame value\n",
    "!./blender/blender -P setgpu.py -b './test_render.blend' -o '/workplace/output/####.png' -s 1 -e 5 -a"
   ]
  },
  {
   "cell_type": "code",
   "execution_count": null,
   "metadata": {},
   "outputs": [],
   "source": [
    "# Zipping the output folder\n",
    "!apt install zip -y\n",
    "!zip -r Blender-output.zip output\n",
    "\n",
    "#Right click the Blender-output.zip file and click on download or copy sharable link. IF it doesn't appear immediately then wait for a while."
   ]
  },
  {
   "cell_type": "code",
   "execution_count": 26,
   "metadata": {},
   "outputs": [
    {
     "name": "stdout",
     "output_type": "stream",
     "text": [
      "rmdir: failed to remove 'cache_fluid_8c2b4f1': No such file or directory\n",
      "mv: cannot move '__MACOSX/cache_fluid_8c2fb4f1' to './cache_fluid_8c2fb4f1': File exists\n"
     ]
    }
   ],
   "source": [
    "!rmdir cache_fluid_8c2b4f1\n",
    "!mv __MACOSX/cache_fluid_* ."
   ]
  }
 ],
 "metadata": {
  "accelerator": "GPU",
  "colab": {
   "private_outputs": true,
   "provenance": []
  },
  "kernelspec": {
   "display_name": "Python 3 (ipykernel)",
   "language": "python",
   "name": "python3"
  },
  "language_info": {
   "codemirror_mode": {
    "name": "ipython",
    "version": 3
   },
   "file_extension": ".py",
   "mimetype": "text/x-python",
   "name": "python",
   "nbconvert_exporter": "python",
   "pygments_lexer": "ipython3",
   "version": "3.10.12"
  }
 },
 "nbformat": 4,
 "nbformat_minor": 4
}
